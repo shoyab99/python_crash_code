{
 "cells": [
  {
   "cell_type": "markdown",
   "id": "2a8353fe",
   "metadata": {},
   "source": [
    "# \"crash course python\""
   ]
  },
  {
   "cell_type": "code",
   "execution_count": 2,
   "id": "57a35434",
   "metadata": {},
   "outputs": [
    {
     "name": "stdout",
     "output_type": "stream",
     "text": [
      "gudio van rossum\n"
     ]
    }
   ],
   "source": [
    "\"hello\"\n",
    "print(\"gudio van rossum\")"
   ]
  },
  {
   "cell_type": "code",
   "execution_count": 9,
   "id": "768552b2",
   "metadata": {},
   "outputs": [
    {
     "name": "stdout",
     "output_type": "stream",
     "text": [
      "22\n",
      "24.0\n",
      "True\n",
      "hello\n"
     ]
    }
   ],
   "source": [
    "# variables\n",
    "#to store the data in the memory\n",
    "age=22 ##integer\n",
    "a=24.0 ##float\n",
    "b=True ##boolean\n",
    "print(age)\n",
    "print(a)\n",
    "print(b)\n",
    "name=\"hello\"##string\n",
    "print(name)\n",
    "##other data types also available in python such as dictonary,list,tuples,set ,,,,,\n",
    "##list tuple and string are known as sequence data type"
   ]
  },
  {
   "cell_type": "code",
   "execution_count": 2,
   "id": "e44633e6",
   "metadata": {},
   "outputs": [
    {
     "name": "stdout",
     "output_type": "stream",
     "text": [
      "my name isshoyab\n",
      "shoyab\n"
     ]
    }
   ],
   "source": [
    "#to take input from the user then we use input() function\n",
    "nam=input(\"my name is\")\n",
    "print(nam)"
   ]
  },
  {
   "cell_type": "code",
   "execution_count": 21,
   "id": "9117dd30",
   "metadata": {},
   "outputs": [
    {
     "name": "stdout",
     "output_type": "stream",
     "text": [
      "enter old age:12\n",
      "14\n",
      "new string is :shoyab\n",
      "shoyab  hello\n"
     ]
    }
   ],
   "source": [
    "#type conversion\n",
    "old_age=int(input(\"enter old age:\")) #here we use int becuase by default it will take string\n",
    "new_age=old_age+2\n",
    "print(new_age)\n",
    "new_string=input(\"new string is :\")\n",
    "old_string=new_string  + \"  \"+\"hello\"\n",
    "print(old_string)"
   ]
  },
  {
   "cell_type": "code",
   "execution_count": 24,
   "id": "bcc7de9e",
   "metadata": {},
   "outputs": [
    {
     "name": "stdout",
     "output_type": "stream",
     "text": [
      "TONY\n",
      "tony\n",
      "1\n",
      "ironman\n",
      "Tosy\n",
      "False\n",
      "True\n"
     ]
    }
   ],
   "source": [
    "#strings\n",
    "name=\"Tony\"\n",
    "print(name.upper()) #to convert all upper case\n",
    "print(name.lower()) #to conert all lower case \n",
    "print(name.find(\"o\")) #to check whether the letter is available in the given string return 1 esle return -1\n",
    "print(name.replace(\"Tony\",\"ironman\")) #replace the string or charecters\n",
    "print(name.replace(\"n\",\"s\"))\n",
    "print(\"m\" in name)#to check it is avilable in the given string\n",
    "print(\"o\" in name)#if it is it return True else False"
   ]
  },
  {
   "cell_type": "code",
   "execution_count": 36,
   "id": "a011cfcd",
   "metadata": {},
   "outputs": [
    {
     "name": "stdout",
     "output_type": "stream",
     "text": [
      "5.0\n",
      "True\n",
      "2\n",
      "0\n",
      "-4\n",
      "False\n",
      "True\n",
      "True\n"
     ]
    }
   ],
   "source": [
    "#operators\n",
    "##arithmetic operators +,-,*,%,/,//....\n",
    "##assignment operators +=,-=,*=,%=....\n",
    "##comaprison operators ==,!=,>=,<=\n",
    "##logical operators and,or,not\n",
    "##identiy operators is:returns True if same value present in the obect esle False\n",
    "##bitwise operators &,|,~,^,<<,>>...\n",
    "### operator precendece\n",
    "result=2+3*5/5\n",
    "print(result)\n",
    "print(3>2)\n",
    "print(3&2)\n",
    "print(3>>2)\n",
    "print(~3)\n",
    "print(3>2 and 2>3)\n",
    "print(3>2 or 2>3)\n",
    "print(not 2>3)"
   ]
  },
  {
   "cell_type": "code",
   "execution_count": 61,
   "id": "23857ec4",
   "metadata": {},
   "outputs": [
    {
     "name": "stdout",
     "output_type": "stream",
     "text": [
      "you are in school\n",
      "thank you\n"
     ]
    }
   ],
   "source": [
    "#conditional statements:: if else\n",
    "age=12\n",
    "if age<2:#here : is used as {} which is ued in c,c++ and parathesis not required like in c ex if()\n",
    "    print(\"You are adult\")#identation 4 steps  \n",
    "elif age>5:\n",
    "    print(\"you are in school\")\n",
    "else:    \n",
    "    print(\"else\")\n",
    "print(\"thank you\") #out of conditional statement    "
   ]
  },
  {
   "cell_type": "code",
   "execution_count": 64,
   "id": "404f2a08",
   "metadata": {},
   "outputs": [
    {
     "name": "stdout",
     "output_type": "stream",
     "text": [
      "enter first number :12\n",
      "enter operator +,-,*,%,/*\n",
      "enter second number :12\n",
      "144\n",
      "THANK YOU\n"
     ]
    }
   ],
   "source": [
    "#to build a claculator\n",
    "number1=int(input(\"enter first number :\"))\n",
    "operator=input(\"enter operator +,-,*,%,/\")\n",
    "number2=int(input(\"enter second number :\"))\n",
    "if operator==\"+\":\n",
    "    print(number1+number2)\n",
    "elif operator==\"-\":\n",
    "    print(number1-number2)\n",
    "elif operator==\"*\":\n",
    "    print(number1*number2)\n",
    "elif operator==\"/\":\n",
    "    print(number1/number2)\n",
    "elif operator==\"%\":\n",
    "    print(number1%number2)\n",
    "else:\n",
    "    print(\"enter correct operator\")\n",
    "\n",
    "print(\"THANK YOU\")\n"
   ]
  },
  {
   "cell_type": "code",
   "execution_count": 67,
   "id": "2723b3c1",
   "metadata": {},
   "outputs": [
    {
     "name": "stdout",
     "output_type": "stream",
     "text": [
      "range(0, 5)\n",
      "range(1, 100)\n"
     ]
    }
   ],
   "source": [
    "#loops\n",
    "##range\n",
    "print(range(5)) #range is a keyword which retuerns sequence of return\n",
    "print(range(1,100))"
   ]
  },
  {
   "cell_type": "code",
   "execution_count": 8,
   "id": "989e71e5",
   "metadata": {},
   "outputs": [
    {
     "name": "stdout",
     "output_type": "stream",
     "text": [
      "*****\n",
      "****\n",
      "***\n",
      "**\n",
      "*\n",
      "\n"
     ]
    }
   ],
   "source": [
    "#while loop\n",
    "i=5\n",
    "while i>=0:\n",
    "    print(i*\"*\") #multiply a number with string gives multplication of string\n",
    "    i=i-1   #cannot be supported + -...."
   ]
  },
  {
   "cell_type": "code",
   "execution_count": 10,
   "id": "1a5e31b4",
   "metadata": {},
   "outputs": [
    {
     "name": "stdout",
     "output_type": "stream",
     "text": [
      "*\n",
      "**\n",
      "***\n",
      "****\n",
      "*****\n"
     ]
    }
   ],
   "source": [
    "i=1\n",
    "while i<=5:\n",
    "    print(i*\"*\")\n",
    "    i+=1"
   ]
  },
  {
   "cell_type": "code",
   "execution_count": 12,
   "id": "f22aa5ce",
   "metadata": {},
   "outputs": [
    {
     "name": "stdout",
     "output_type": "stream",
     "text": [
      "0\n",
      "1\n",
      "2\n",
      "3\n",
      "4\n"
     ]
    }
   ],
   "source": [
    "#for loop\n",
    "for i in range(5): #0 to 4\n",
    "    print(i)"
   ]
  },
  {
   "cell_type": "code",
   "execution_count": 23,
   "id": "e98ddc80",
   "metadata": {},
   "outputs": [
    {
     "name": "stdout",
     "output_type": "stream",
     "text": [
      "[97, 98, 99, 98]\n",
      "['hello', 14, 19, 20]\n",
      "14\n",
      "19\n",
      "[14, 19]\n",
      "97\n",
      "98\n",
      "99\n",
      "98\n",
      "[97, 98, 99, 98, 99]\n",
      "[97, 98, 99, 99, 98, 99]\n"
     ]
    }
   ],
   "source": [
    "#non primitive data type\n",
    "#lists\n",
    "## list =collcetion of ordered data. It is mutable\n",
    "marks=[97,98,99,98] #[] square brackets are used\n",
    "print(marks)\n",
    "age=[\"hello\",14,19,20]\n",
    "print(age)\n",
    "print(age[1])\n",
    "print(age[2])\n",
    "print(age[1:3])\n",
    "for score in marks:\n",
    "    print(score)\n",
    "marks.append(99)    #to add element in the last\n",
    "print(marks)\n",
    "marks.insert(2,99) #to add element at any location\n",
    "print(marks)"
   ]
  },
  {
   "cell_type": "code",
   "execution_count": 26,
   "id": "235a2508",
   "metadata": {},
   "outputs": [
    {
     "name": "stdout",
     "output_type": "stream",
     "text": [
      "a\n",
      "b\n",
      "c\n"
     ]
    }
   ],
   "source": [
    "#break and continue\n",
    "lists=[\"a\",\"b\",\"c\",\"d\",\"e\"]\n",
    "for students in lists:\n",
    "    print(students)\n",
    "    if students==\"c\":\n",
    "        break  #to terminate loop"
   ]
  },
  {
   "cell_type": "code",
   "execution_count": 30,
   "id": "e87307b6",
   "metadata": {},
   "outputs": [
    {
     "name": "stdout",
     "output_type": "stream",
     "text": [
      "a\n",
      "c\n",
      "d\n",
      "e\n"
     ]
    }
   ],
   "source": [
    "for students in lists:\n",
    "    if students==\"b\":\n",
    "        continue   #to jump to another iteration\n",
    "    print(students)"
   ]
  },
  {
   "cell_type": "code",
   "execution_count": 37,
   "id": "792929e2",
   "metadata": {},
   "outputs": [
    {
     "name": "stdout",
     "output_type": "stream",
     "text": [
      "(1, 2, 3, 4, 5)\n",
      "1\n",
      "4\n"
     ]
    }
   ],
   "source": [
    "#tuple\n",
    "#tuple is collection of ordered data it is immutable and repetable\n",
    "tuples=(1,2,3,4,5) #to determine we use paratensis ===()\n",
    "print(tuples)\n",
    "print(tuples.count(2))\n",
    "print(tuples.index(5))\n"
   ]
  },
  {
   "cell_type": "code",
   "execution_count": 45,
   "id": "98a5bacf",
   "metadata": {},
   "outputs": [
    {
     "name": "stdout",
     "output_type": "stream",
     "text": [
      "{1, 2, 3, 4, 'hello', 'bac', 55, 'abc'}\n",
      "1\n",
      "2\n",
      "3\n",
      "4\n",
      "hello\n",
      "bac\n",
      "55\n",
      "abc\n"
     ]
    }
   ],
   "source": [
    "#sets are collectiion of unordered data which are mutable\n",
    "#items cannot be chagable or replaced but we can add new items or we can remove\n",
    "#curley braces are used {}\n",
    "marks={1,2,3,4,\"hello\",\"bac\",55,55,\"hello\",\"abc\"} #store unique values and cannot be accesed by idex\n",
    "print(marks)\n",
    "for students in marks:\n",
    "    print(students)\n"
   ]
  },
  {
   "cell_type": "code",
   "execution_count": 52,
   "id": "e344850b",
   "metadata": {},
   "outputs": [
    {
     "name": "stdout",
     "output_type": "stream",
     "text": [
      "{'fgr': 2, 'edf': 4, 'abc': 6, 'cde': 9, 'mkl': 7}\n",
      "6\n",
      "<class 'dict'>\n",
      "5\n"
     ]
    }
   ],
   "source": [
    "#dictonaries are used to store data vallues in key:value pairs\n",
    "#it is ordered data ,changable and do not allow duplicants\n",
    "#stored in curley braces {}\n",
    "dicts={\n",
    "    \"fgr\":2,\"edf\":4,\"abc\":6,\"cde\":9,\"mkl\":7}\n",
    "print(dicts)\n",
    "print(dicts[\"abc\"])\n",
    "print(type(dicts))\n",
    "print(len(dicts))"
   ]
  },
  {
   "cell_type": "code",
   "execution_count": 87,
   "id": "8d2f0189",
   "metadata": {},
   "outputs": [],
   "source": [
    "#arrays are collection of same ordered data items\n",
    "#arrays in python are commonly implemeted using list"
   ]
  },
  {
   "cell_type": "code",
   "execution_count": 57,
   "id": "48900073",
   "metadata": {},
   "outputs": [
    {
     "name": "stdout",
     "output_type": "stream",
     "text": [
      "['__doc__', '__loader__', '__name__', '__package__', '__spec__', 'acos', 'acosh', 'asin', 'asinh', 'atan', 'atan2', 'atanh', 'ceil', 'comb', 'copysign', 'cos', 'cosh', 'degrees', 'dist', 'e', 'erf', 'erfc', 'exp', 'expm1', 'fabs', 'factorial', 'floor', 'fmod', 'frexp', 'fsum', 'gamma', 'gcd', 'hypot', 'inf', 'isclose', 'isfinite', 'isinf', 'isnan', 'isqrt', 'lcm', 'ldexp', 'lgamma', 'log', 'log10', 'log1p', 'log2', 'modf', 'nan', 'nextafter', 'perm', 'pi', 'pow', 'prod', 'radians', 'remainder', 'sin', 'sinh', 'sqrt', 'tan', 'tanh', 'tau', 'trunc', 'ulp']\n",
      "2.0\n",
      "0.320040389379563\n",
      "6.0\n",
      "1\n"
     ]
    }
   ],
   "source": [
    "#functions ==set of block which perform specific operations\n",
    "##1 inbuilt functions == which already exists in python such as int() print() type()\n",
    "##2 module functions ==using import we can use such as import math\n",
    "import math\n",
    "print(dir(math))\n",
    "from math import sqrt\n",
    "print(sqrt(4))\n",
    "from math import *\n",
    "print(tan(60))\n",
    "print(gamma(4))\n",
    "print(gcd(5,7))\n",
    "##3 user defined functions\n"
   ]
  },
  {
   "cell_type": "code",
   "execution_count": 61,
   "id": "a7d7e510",
   "metadata": {},
   "outputs": [
    {
     "name": "stdout",
     "output_type": "stream",
     "text": [
      "7\n"
     ]
    }
   ],
   "source": [
    "#user define fuctions are we can define in the code\n",
    "#syntax def function_name(parametrs):\n",
    "def sum(x,y):\n",
    "    print(x+y)\n",
    "sum(2,5)    "
   ]
  },
  {
   "cell_type": "code",
   "execution_count": null,
   "id": "652878e9",
   "metadata": {},
   "outputs": [],
   "source": []
  }
 ],
 "metadata": {
  "kernelspec": {
   "display_name": "Python 3 (ipykernel)",
   "language": "python",
   "name": "python3"
  },
  "language_info": {
   "codemirror_mode": {
    "name": "ipython",
    "version": 3
   },
   "file_extension": ".py",
   "mimetype": "text/x-python",
   "name": "python",
   "nbconvert_exporter": "python",
   "pygments_lexer": "ipython3",
   "version": "3.9.13"
  }
 },
 "nbformat": 4,
 "nbformat_minor": 5
}
