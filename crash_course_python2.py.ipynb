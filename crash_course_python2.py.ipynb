{
 "cells": [
  {
   "cell_type": "code",
   "execution_count": 7,
   "id": "07ba0d89",
   "metadata": {},
   "outputs": [
    {
     "name": "stdout",
     "output_type": "stream",
     "text": [
      "hey my name is shoyab amd i am from india\n",
      "hey my price is 49.00and iam fromindia\n",
      "60\n",
      "2*30\n",
      "enter number12\n",
      "multiplication  table of 12\n",
      "12*0=0\n",
      "12*1=12\n",
      "12*2=24\n",
      "12*3=36\n",
      "12*4=48\n",
      "12*5=60\n",
      "12*6=72\n",
      "12*7=84\n",
      "12*8=96\n",
      "12*9=108\n",
      "12*10=120\n"
     ]
    }
   ],
   "source": [
    "#f\"strings ===fstrings are to make string uses like string.formart()\n",
    "letter=\"hey my name is {} amd i am from {}\"\n",
    "country=\"india\"\n",
    "name=\"shoyab\"\n",
    "price=49.0000\n",
    "\n",
    "print(letter.format(name,country))\n",
    "print(f'hey my price is {price:.2f}and iam from{country}')\n",
    "print(f\"{2*30}\")\n",
    "print(f\"2*30\") #print as string\n",
    "#multiplication table\n",
    "x=int(input(f\"enter number\"))\n",
    "print(f\"multiplication  table of {x}\")\n",
    "for i in range(0,11):\n",
    "    print(f\"{int(x)}*{i}={int(x)*i}\")"
   ]
  },
  {
   "cell_type": "code",
   "execution_count": 24,
   "id": "516109bb",
   "metadata": {},
   "outputs": [
    {
     "name": "stdout",
     "output_type": "stream",
     "text": [
      "25\n",
      "this is a  tyype of function that reurns area of a square\n"
     ]
    }
   ],
   "source": [
    "#docstrings(documetation strings) provides documetation after the functions,classes and methods...\n",
    "#documentation would be declread as triple single quotes or triple doble quotes\n",
    "#commets are diffrent compared with the documetation\n",
    "#can be accesed by using function_name.__doc__\n",
    "#must only write after the name of the funtion or class else it will show as none\n",
    "def square(n):\n",
    "    '''this is a  tyype of function that reurns area of a square'''\n",
    "    print(n**2)\n",
    "square(5)\n",
    "print(square.__doc__)"
   ]
  },
  {
   "cell_type": "code",
   "execution_count": null,
   "id": "db1fae3c",
   "metadata": {},
   "outputs": [],
   "source": [
    "#recursion functions=== calling a function by itself\n",
    "def factorial(n):\n",
    "    if n==1 and n==0:\n",
    "        return 1\n",
    "    else:\n",
    "        \n",
    "        return n*factorial(n-1)\n",
    "print(factorial(4))  \n"
   ]
  },
  {
   "cell_type": "code",
   "execution_count": 84,
   "id": "14ec098f",
   "metadata": {},
   "outputs": [
    {
     "name": "stdout",
     "output_type": "stream",
     "text": [
      "enter number 12\n",
      "power of intergers\n",
      "100\n"
     ]
    }
   ],
   "source": [
    "#exceptional handling\n",
    "##error in python can be two types i.e syntax error and rutime error\n",
    "## it doesn't stop the flow of the program\n",
    "## there are two keywprds available in python i.e try: and except:\n",
    "#if try block doesnt excetue then excpet block will excecute\n",
    "x=int(input(\"enter number \"))\n",
    "print(\"power of intergers\")\n",
    "try:\n",
    "    \n",
    "    for i in range(1,11):\n",
    "        x=i*i\n",
    "    print(x)\n",
    "except ValueError:\n",
    "    print(e)\n"
   ]
  },
  {
   "cell_type": "code",
   "execution_count": null,
   "id": "accfa9ec",
   "metadata": {},
   "outputs": [],
   "source": [
    "#in the above prgoram if we input the string it doen't work and also it will stop the below code\n",
    "#so to avoid we use try and except also finally"
   ]
  },
  {
   "cell_type": "code",
   "execution_count": 35,
   "id": "893c3a28",
   "metadata": {},
   "outputs": [
    {
     "name": "stdout",
     "output_type": "stream",
     "text": [
      "enter the index3\n",
      "77\n",
      "iam always excecuted\n"
     ]
    }
   ],
   "source": [
    "try:\n",
    "    l=[2,34,56,77,28]\n",
    "    i=int(input(\"enter the index\"))\n",
    "    print(l[i])\n",
    "except:    \n",
    "    print(\"some error occured\")\n",
    "finally:\n",
    "    print(\"iam always excecuted\") "
   ]
  },
  {
   "cell_type": "code",
   "execution_count": 39,
   "id": "4a27f95f",
   "metadata": {},
   "outputs": [
    {
     "name": "stdout",
     "output_type": "stream",
     "text": [
      "2\n",
      "3\n",
      "6\n",
      "4\n",
      "hello\n",
      "3\n",
      "2\n",
      "6\n"
     ]
    }
   ],
   "source": [
    "#enumerate function is build in function that add index values to the list,tuples...\n",
    "lists=[2,3,6,4,3,2,6]\n",
    "\n",
    "for index,i in enumerate(lists):\n",
    "    print(i)\n",
    "    if(index==3):\n",
    "        print(\"hello\")\n",
    "        "
   ]
  },
  {
   "cell_type": "code",
   "execution_count": 84,
   "id": "16ed4376",
   "metadata": {},
   "outputs": [
    {
     "name": "stdout",
     "output_type": "stream",
     "text": [
      "['__doc__', '__loader__', '__name__', '__package__', '__spec__', 'acos', 'acosh', 'asin', 'asinh', 'atan', 'atan2', 'atanh', 'ceil', 'comb', 'copysign', 'cos', 'cosh', 'degrees', 'dist', 'e', 'erf', 'erfc', 'exp', 'expm1', 'fabs', 'factorial', 'floor', 'fmod', 'frexp', 'fsum', 'gamma', 'gcd', 'hypot', 'inf', 'isclose', 'isfinite', 'isinf', 'isnan', 'isqrt', 'lcm', 'ldexp', 'lgamma', 'log', 'log10', 'log1p', 'log2', 'modf', 'nan', 'nextafter', 'perm', 'pi', 'pow', 'prod', 'radians', 'remainder', 'sin', 'sinh', 'sqrt', 'tan', 'tanh', 'tau', 'trunc', 'ulp']\n",
      "5e-324\n",
      "3.141592653589793\n"
     ]
    }
   ],
   "source": [
    " #importing in python works importing the file in the current file\n",
    "#say if we say a file sum.py of two numbers and we want to run the same code again \n",
    "##so to avoid we just import overall codde in the current script \n",
    "from math import * \n",
    "print(dir(math))\n",
    "print(ulp(0))\n",
    "print(pi)"
   ]
  },
  {
   "cell_type": "code",
   "execution_count": 99,
   "id": "3e241571",
   "metadata": {},
   "outputs": [
    {
     "name": "stdout",
     "output_type": "stream",
     "text": [
      "2\n",
      "4\n",
      "hello\n"
     ]
    }
   ],
   "source": [
    "#local varaibles and global variable \n",
    "##local variable declread inside of the function and only accessed by that function\n",
    "#global variable declaread outdide of the function can be accessed by others\n",
    "x=2   # global variable\n",
    "print(x) \n",
    "def sum():\n",
    "    x=4   #local varaible\n",
    "    print(x) \n",
    "    print(\"hello\")\n",
    "sum()    "
   ]
  },
  {
   "cell_type": "code",
   "execution_count": 23,
   "id": "4c77ee0f",
   "metadata": {},
   "outputs": [
    {
     "name": "stdout",
     "output_type": "stream",
     "text": [
      "hello worldhello world\n"
     ]
    }
   ],
   "source": [
    "#files are built in functions\n",
    "#files are two types binary ,text files operations are read write append.....\n",
    "#modes=== r w a rb create \n",
    "f=open(\"hello.txt\",\"r\")\n",
    "#print(f)\n",
    "text=f.read()\n",
    "print(text)\n",
    "f.close()"
   ]
  },
  {
   "cell_type": "code",
   "execution_count": 24,
   "id": "fe55d412",
   "metadata": {
    "scrolled": true
   },
   "outputs": [
    {
     "name": "stdout",
     "output_type": "stream",
     "text": [
      "['hello iam shoyab iam completing my advanced python course']\n"
     ]
    }
   ],
   "source": [
    "#readline() reads the file line by line\n",
    "s=open(\"text.txt\",\"r\")\n",
    "file=s.readline(10) #if numer not specified it reads entire file and readlines retuen the string in the form of the list\n",
    "print(file)\n",
    "s.close()"
   ]
  },
  {
   "cell_type": "code",
   "execution_count": 25,
   "id": "2be9ac0a",
   "metadata": {},
   "outputs": [],
   "source": [
    "#writelines() writes all the string in the sequence to the file\n",
    "f=open(\"text.txt\",\"w\")\n",
    "f.write(\"when i think i almost got hurdle\")\n",
    "f.close()\n"
   ]
  },
  {
   "cell_type": "code",
   "execution_count": 27,
   "id": "afa5419d",
   "metadata": {},
   "outputs": [
    {
     "name": "stdout",
     "output_type": "stream",
     "text": [
      "when i think i almost got hurdle\n"
     ]
    }
   ],
   "source": [
    "g=open(\"text.txt\",\"r\")\n",
    "e=g.read()\n",
    "print(e)\n",
    "g.close()"
   ]
  },
  {
   "cell_type": "code",
   "execution_count": 29,
   "id": "a33392c9",
   "metadata": {},
   "outputs": [
    {
     "name": "stdout",
     "output_type": "stream",
     "text": [
      "None\n"
     ]
    }
   ],
   "source": [
    "lines=[\"hello this is shoyab iam percuving my btech in the gurunanak clg\",\"i got my campus placment in this clg\"]\n",
    "w=open(\"text.txt\",\"w\")\n",
    "y=w.writelines(lines)\n",
    "print(y)\n",
    "w.close()"
   ]
  },
  {
   "cell_type": "code",
   "execution_count": 36,
   "id": "fac28267",
   "metadata": {},
   "outputs": [
    {
     "name": "stdout",
     "output_type": "stream",
     "text": [
      "8\n",
      "105\n",
      "10\n"
     ]
    }
   ],
   "source": [
    "#lambda function are a functions without name.it is defined by the mabda keyword\n",
    "#syntax lambda argumets:expression\n",
    "sum=lambda Y: Y+3\n",
    "print(sum(5))\n",
    "cube=lambda x,y,z: x*y*z\n",
    "print(cube(3,5,7))\n",
    "#moreover m=lambda functions are used when there are functions in functions\n",
    "def sum(n):\n",
    "    return lambda a:a*n\n",
    "double=sum(2)\n",
    "print(double(5))\n"
   ]
  },
  {
   "cell_type": "code",
   "execution_count": 38,
   "id": "2483b694",
   "metadata": {},
   "outputs": [
    {
     "name": "stdout",
     "output_type": "stream",
     "text": [
      "[8, 125, 343, 729, 27]\n"
     ]
    }
   ],
   "source": [
    "#map,filter and reduce are build in functions that allows you to apply ta function to a sequence of elements \n",
    "##and retuens new sequnece\n",
    "#map function applies a function to each element iin a sequenece containing the transormed elements\n",
    "##syntax map(function,iterable)\n",
    "def cube(x):\n",
    "    return x*x*x\n",
    "l=[2,5,7,9,3]\n",
    "newl=list(map(cube,l))\n",
    "print(newl)"
   ]
  },
  {
   "cell_type": "code",
   "execution_count": 40,
   "id": "17ae3560",
   "metadata": {},
   "outputs": [
    {
     "name": "stdout",
     "output_type": "stream",
     "text": [
      "[2, 4, 1, 3]\n"
     ]
    }
   ],
   "source": [
    "#filter funtion filters a sequenece of elements based on the given predicate(a function that return boolean value)\n",
    "##and retuens a new sequence only conatining elements that meet predicate\n",
    "##yntax filter(predicate,iterable)\n",
    "def greater(n):\n",
    "    return n<5\n",
    "l=[2,4,5,9,1,45,6,7,3]\n",
    "newl=list(filter(greater,l))\n",
    "print(newl)"
   ]
  },
  {
   "cell_type": "code",
   "execution_count": 46,
   "id": "45d31d22",
   "metadata": {},
   "outputs": [
    {
     "name": "stdout",
     "output_type": "stream",
     "text": [
      "20\n"
     ]
    }
   ],
   "source": [
    "#reduce function that applies a function to a sequence and returns a single value\n",
    "from functools import reduce\n",
    "sum=lambda x,y:x+y\n",
    "l=[2,4,3,6,5]\n",
    "newl=(reduce(sum,l))\n",
    "print(newl)\n"
   ]
  },
  {
   "cell_type": "code",
   "execution_count": 74,
   "id": "2c2c1af5",
   "metadata": {},
   "outputs": [
    {
     "name": "stdout",
     "output_type": "stream",
     "text": [
      "harryis data scientist\n"
     ]
    }
   ],
   "source": [
    "#obect oriented programing in python is to uses classes and objects\n",
    "##where classes are bluprint for creating of objects and obejcts are instance of the class and it contains its own data\n",
    "###creating a class using class keyword\n",
    "class person:\n",
    "    name =\"shoyab\"\n",
    "    occupation=\"data scientist\"\n",
    "    salary=10000\n",
    "    def info(self):  ##self is a keyword is a reference of the current instance of the class\n",
    "        print(f\"{self.name}is {self.occupation}\")\n",
    "a=person()\n",
    "b=person()\n",
    "a.name=\"harry\"\n",
    "a.occuptaion=\"web developer\"\n",
    "a.salary=150000\n",
    "b.name=\"abc\"\n",
    "b.occuptaion=\"web desiner\"\n",
    "b.salary=12000\n",
    "#print(a.name,a.occupation)\n",
    "a.info()"
   ]
  },
  {
   "cell_type": "code",
   "execution_count": 76,
   "id": "833b7957",
   "metadata": {},
   "outputs": [
    {
     "name": "stdout",
     "output_type": "stream",
     "text": [
      "cat is white color\n",
      "lion is yellow color\n",
      "tiger is red color\n",
      "rabbit is brown color\n"
     ]
    }
   ],
   "source": [
    "class animal:\n",
    "    name=\"dog\"\n",
    "    color=\"black\"\n",
    "    def info(self):\n",
    "        print(f\"{self.name} is {self.color} color\")\n",
    "a=animal()        \n",
    "b=animal()\n",
    "c=animal()\n",
    "d=animal()\n",
    "a.name=\"cat\"\n",
    "a.color=\"white\"\n",
    "b.name=\"lion\"\n",
    "b.color=\"yellow\"\n",
    "c.name=\"tiger\"\n",
    "c.color=\"red\" \n",
    "d.name=\"rabbit\"\n",
    "d.color=\"brown\"\n",
    "a.info()\n",
    "b.info()\n",
    "c.info()\n",
    "d.info()\n",
    "#this is how oops works"
   ]
  },
  {
   "cell_type": "code",
   "execution_count": 121,
   "id": "4381a67c",
   "metadata": {},
   "outputs": [
    {
     "name": "stdout",
     "output_type": "stream",
     "text": [
      "hey\n",
      "hey\n",
      "abc is developer\n",
      "cde is HR\n"
     ]
    }
   ],
   "source": [
    "#constructors in python is a special method in a class\n",
    "##there are different types of constructors it calls automatically when an object is created of a class\n",
    "### synthax of python constructor is --int---(self):\n",
    "###paramterised constructor and default constructor\n",
    "class person:\n",
    "    def __init__(self,n,o):\n",
    "        print(\"hey\")\n",
    "        self.name=n\n",
    "        self.occ=o\n",
    "    def info(self):\n",
    "        print(f\"{self.name} is {self.occ}\")\n",
    "a=person(\"abc\",\"developer\") \n",
    "b=person(\"cde\",\"HR\")\n",
    "a.info()\n",
    "b.info()"
   ]
  },
  {
   "cell_type": "code",
   "execution_count": 102,
   "id": "fdd35a67",
   "metadata": {},
   "outputs": [],
   "source": [
    "#decorators allows you to modify the behavior of functions and methods\n",
    "##the decorators is a function that takes another function as an argument and returns a new function that modeifies behavior of orginal functions \n",
    "def greet(fx):\n",
    "    def mfx(*args,**kwargs):\n",
    "        print(\"hello\") \n",
    "        fx()\n",
    "        print(\"take care\")\n",
    "        return mfx\n",
    "@greet    \n",
    "def hello(a):\n",
    "    return a\n"
   ]
  },
  {
   "cell_type": "code",
   "execution_count": 111,
   "id": "ae4872b4",
   "metadata": {},
   "outputs": [
    {
     "name": "stdout",
     "output_type": "stream",
     "text": [
      "animal is dog\n",
      "21\n"
     ]
    }
   ],
   "source": [
    "#getters and setters\n",
    "#getters in python are methods used to access the values of an obejcts properties\n",
    "##getters and setters are not same as other oops languages and we directly get() and set() methods\n",
    "class animal():\n",
    "    def __init__(self,name=0):\n",
    "        print(\"animal is dog\")\n",
    "        self.name=name\n",
    "        \n",
    "    def get_name(self):\n",
    "        return self.name\n",
    "    def set_name(self,x):\n",
    "        self.name=x\n",
    "y=animal()\n",
    "y.set_name(21)\n",
    "print(y.get_name())\n",
    "          \n"
   ]
  },
  {
   "cell_type": "code",
   "execution_count": 141,
   "id": "1dcd633e",
   "metadata": {},
   "outputs": [
    {
     "name": "stdout",
     "output_type": "stream",
     "text": [
      "hey hello\n",
      "hello this is shoyab\n",
      "hey hello\n",
      "hi the manager is abc\n",
      "hello this is abc\n"
     ]
    }
   ],
   "source": [
    "#inheritance is a class which is derived from another class.the class will inherit all the properties\n",
    "#contains diffrenet types of inheritance\n",
    "class person:\n",
    "    def __init__(self,n):\n",
    "        print(\"hey hello\")\n",
    "        self.name=n\n",
    "\n",
    "    def info(self):\n",
    "        print(f\"hello this is {self.name}\")\n",
    "a=person(\"shoyab\")\n",
    "a.info()\n",
    "class emp(person):\n",
    "    def sum(self):\n",
    "        print(f\"hi the manager is {self.name}\")\n",
    "b=emp(\"abc\") \n",
    "b.sum()\n",
    "b.info() ##inheriting the parent class"
   ]
  },
  {
   "cell_type": "code",
   "execution_count": 189,
   "id": "a47a22f8",
   "metadata": {},
   "outputs": [
    {
     "name": "stdout",
     "output_type": "stream",
     "text": [
      "hello world\n",
      "hello this is shoyab and my occupation is web desinger\n",
      "hello world\n",
      "hello this is shoyab and my occupation is python\n"
     ]
    }
   ],
   "source": [
    "class person:\n",
    "    def __init__(self,name,occ):\n",
    "        print(\"hello world\")\n",
    "        self.name=name\n",
    "        self.occ=occ\n",
    "    def info(self):\n",
    "        print(f\"hello this is {self.name} and my occupation is {self.occ}\")\n",
    "a=person(\"shoyab\",\"web desinger\") \n",
    "a.info()\n",
    "#creating a child class\n",
    "class emp(person):\n",
    "    def __init__(self,c):\n",
    "        self.course=c\n",
    "        \n",
    "    def sum(self):\n",
    "        print(f\"{self.name} completed  {self.course}\")\n",
    "b=person(\"shoyab\",\"python\")\n",
    "b.info()\n",
    "\n",
    "    \n"
   ]
  },
  {
   "cell_type": "code",
   "execution_count": 191,
   "id": "12964942",
   "metadata": {},
   "outputs": [
    {
     "name": "stdout",
     "output_type": "stream",
     "text": [
      "7\n",
      "10\n",
      "0.4\n"
     ]
    }
   ],
   "source": [
    "#multiplr inheritance\n",
    "class multiple:\n",
    "    def sum(self,a,b):\n",
    "        return a+b\n",
    "class inherit:\n",
    "    def mul(self,a,b):\n",
    "        return a*b\n",
    "class derived(multiple,inherit):\n",
    "    def drive(self,a,b):\n",
    "        return a/b\n",
    "c=derived()\n",
    "print(c.sum(2,5))\n",
    "print(c.mul(2,5))\n",
    "print(c.drive(2,5))"
   ]
  },
  {
   "cell_type": "code",
   "execution_count": 208,
   "id": "9d841cb3",
   "metadata": {},
   "outputs": [
    {
     "name": "stdout",
     "output_type": "stream",
     "text": [
      "hey\n",
      "10\n",
      "hr\n",
      "hello\n",
      "hey\n",
      "hr\n"
     ]
    }
   ],
   "source": [
    "#acces modifiers are used to limit the access of class varaible and class methods\n",
    "###public private and protected\n",
    "##by default it is public\n",
    "class emp:\n",
    "    def __init__(self):\n",
    "        self.name=\"hey\"\n",
    "        self.__age=10 ##private(will be made by using name convention such as adding  prefix double underscore before the varaible)\n",
    "        self._job=\"hr\" #protected dy adding single underscore before the variable\n",
    "a=emp()\n",
    "print(a.name) ##public\n",
    "#to access private\n",
    "print(a._emp__age) #can be accessed by indirectly this is called as name mangling\n",
    "print(a._job) #only accesed within the class and from the class\n",
    "class student:\n",
    "    def __init__(self):\n",
    "        self.name=\"hello\"\n",
    "b=student() \n",
    "print(b.name)\n",
    "print(a.name)\n",
    "print(a._job)\n",
    "#print(a.__age) #error\n",
    "        "
   ]
  },
  {
   "cell_type": "code",
   "execution_count": 218,
   "id": "ef479308",
   "metadata": {},
   "outputs": [
    {
     "name": "stdout",
     "output_type": "stream",
     "text": [
      "['__add__', '__class__', '__class_getitem__', '__contains__', '__delattr__', '__delitem__', '__dir__', '__doc__', '__eq__', '__format__', '__ge__', '__getattribute__', '__getitem__', '__gt__', '__hash__', '__iadd__', '__imul__', '__init__', '__init_subclass__', '__iter__', '__le__', '__len__', '__lt__', '__mul__', '__ne__', '__new__', '__reduce__', '__reduce_ex__', '__repr__', '__reversed__', '__rmul__', '__setattr__', '__setitem__', '__sizeof__', '__str__', '__subclasshook__', 'append', 'clear', 'copy', 'count', 'extend', 'index', 'insert', 'pop', 'remove', 'reverse', 'sort']\n",
      "<method-wrapper '__add__' of list object at 0x000001DDE9B4CC40>\n",
      "<built-in method __dir__ of list object at 0x000001DDE9B4CC40>\n",
      "hello\n",
      "Help on person in module __main__ object:\n",
      "\n",
      "class person(builtins.object)\n",
      " |  Methods defined here:\n",
      " |  \n",
      " |  __init__(self)\n",
      " |      Initialize self.  See help(type(self)) for accurate signature.\n",
      " |  \n",
      " |  ----------------------------------------------------------------------\n",
      " |  Data descriptors defined here:\n",
      " |  \n",
      " |  __dict__\n",
      " |      dictionary for instance variables (if defined)\n",
      " |  \n",
      " |  __weakref__\n",
      " |      list of weak references to the object (if defined)\n",
      "\n"
     ]
    }
   ],
   "source": [
    "#methods in python dir(),__dir__,__dict__\n",
    "x=[1,2,3]\n",
    "print(dir(x)) #returns all the methods belogs to the x\n",
    "print(x.__add__)\n",
    "print(x.__dir__)\n",
    "class person:\n",
    "    def __init__(self):\n",
    "        self.name=\"hello\"\n",
    "a=person()\n",
    "print(a.name)\n",
    "a.__dict__  #represntation of an object attribute\n",
    "help(a) #helps to get documentation module"
   ]
  },
  {
   "cell_type": "code",
   "execution_count": 227,
   "id": "d3879366",
   "metadata": {},
   "outputs": [
    {
     "name": "stdout",
     "output_type": "stream",
     "text": [
      "this is child class method\n",
      "this is parent class method\n"
     ]
    }
   ],
   "source": [
    "#super keyword is used to refer the parent class.it is espically useful when a class inherits multiple parent classes and we want to call method of one of the parent class\n",
    "class sum:\n",
    "    def parentmethod(self):\n",
    "        print(\"this is parent class method\")\n",
    "class mul(sum):\n",
    "    def parentmethod(self):\n",
    "        print(\"shoyab\")\n",
    "    def childmethod(self):\n",
    "        print(\"this is child class method\")\n",
    "        super().parentmethod() #calls parent method\n",
    "obj=mul()\n",
    "obj.childmethod()\n"
   ]
  },
  {
   "cell_type": "code",
   "execution_count": 238,
   "id": "40918917",
   "metadata": {},
   "outputs": [
    {
     "name": "stdout",
     "output_type": "stream",
     "text": [
      "['__name__', '__doc__', '__package__', '__loader__', '__spec__', '__file__', '__cached__', '__builtins__', 'enum', 'sre_compile', 'sre_parse', 'functools', '_locale', '__all__', '__version__', 'RegexFlag', 'ASCII', 'A', 'IGNORECASE', 'I', 'LOCALE', 'L', 'UNICODE', 'U', 'MULTILINE', 'M', 'DOTALL', 'S', 'VERBOSE', 'X', 'TEMPLATE', 'T', 'DEBUG', 'error', 'match', 'fullmatch', 'search', 'sub', 'subn', 'split', 'findall', 'finditer', 'compile', 'purge', 'template', '_special_chars_map', 'escape', 'Pattern', 'Match', '_cache', '_MAXCACHE', '_compile', '_compile_repl', '_expand', '_subx', 'copyreg', '_pickle', 'Scanner']\n",
      "no\n"
     ]
    }
   ],
   "source": [
    "#regular expression is a sequence of charecters that forms a search pattern\n",
    "#RegEx can be ued to check if a string conatins the specified search pattern\n",
    "#importing the re module\n",
    "import re\n",
    "txt=\"this is the december\"\n",
    "print(re.__dir__())\n",
    "x=re.search(\"the%december*\",txt)\n",
    "if x:\n",
    "    print(\"yes we have a match\")\n",
    "else:\n",
    "    print(\"no\")"
   ]
  },
  {
   "cell_type": "code",
   "execution_count": null,
   "id": "be49316c",
   "metadata": {},
   "outputs": [],
   "source": []
  }
 ],
 "metadata": {
  "kernelspec": {
   "display_name": "Python 3 (ipykernel)",
   "language": "python",
   "name": "python3"
  },
  "language_info": {
   "codemirror_mode": {
    "name": "ipython",
    "version": 3
   },
   "file_extension": ".py",
   "mimetype": "text/x-python",
   "name": "python",
   "nbconvert_exporter": "python",
   "pygments_lexer": "ipython3",
   "version": "3.9.13"
  }
 },
 "nbformat": 4,
 "nbformat_minor": 5
}
